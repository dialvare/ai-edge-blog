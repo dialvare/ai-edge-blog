{
 "cells": [
  {
   "cell_type": "code",
   "execution_count": 5,
   "id": "f33a7cba-8bc6-4430-8c4d-8e538e83b20c",
   "metadata": {},
   "outputs": [],
   "source": [
    "# Import packages\n",
    "import os\n",
    "import boto3"
   ]
  },
  {
   "cell_type": "code",
   "execution_count": 6,
   "id": "3cf9eb80-1bcb-4cc4-8e5c-712d95a11dc5",
   "metadata": {},
   "outputs": [],
   "source": [
    "# Read the data connection variables\n",
    "key_id = os.getenv(\"AWS_ACCESS_KEY_ID\")\n",
    "secret_key = os.getenv(\"AWS_SECRET_ACCESS_KEY\")\n",
    "endpoint = os.getenv(\"AWS_S3_ENDPOINT\")\n",
    "bucket_name = os.getenv(\"AWS_S3_BUCKET\")"
   ]
  },
  {
   "cell_type": "code",
   "execution_count": 7,
   "id": "f574b336-a69e-41e9-96a4-8d0b07fdfec0",
   "metadata": {},
   "outputs": [],
   "source": [
    "# Create s3 connection\n",
    "s3_client = boto3.client(\n",
    "    \"s3\",\n",
    "    aws_access_key_id=key_id,\n",
    "    aws_secret_access_key=secret_key,\n",
    "    endpoint_url=endpoint,\n",
    "    use_ssl=True\n",
    ")"
   ]
  },
  {
   "cell_type": "code",
   "execution_count": 8,
   "id": "68fb2b4f-f860-4b8d-bbc7-12812a8c57ab",
   "metadata": {},
   "outputs": [],
   "source": [
    "# Upload the model to the s3 bucket\n",
    "s3_client.upload_file('models/forecast/1/model.onnx', bucket_name, Key='models/forecast/1/model.onnx')"
   ]
  }
 ],
 "metadata": {
  "kernelspec": {
   "display_name": "Python 3.11",
   "language": "python",
   "name": "python3"
  },
  "language_info": {
   "codemirror_mode": {
    "name": "ipython",
    "version": 3
   },
   "file_extension": ".py",
   "mimetype": "text/x-python",
   "name": "python",
   "nbconvert_exporter": "python",
   "pygments_lexer": "ipython3",
   "version": "3.11.7"
  }
 },
 "nbformat": 4,
 "nbformat_minor": 5
}
